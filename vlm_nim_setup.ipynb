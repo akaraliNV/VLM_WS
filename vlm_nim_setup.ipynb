{
 "cells": [
  {
   "cell_type": "code",
   "execution_count": null,
   "id": "2af51f15-8c46-4a45-a814-950d8221f786",
   "metadata": {},
   "outputs": [],
   "source": [
    "api_key = \"xyz\" #FIX ME - Replace with your API key"
   ]
  },
  {
   "cell_type": "code",
   "execution_count": null,
   "id": "5b2f90fc-e139-40c5-9acd-4420c912c02d",
   "metadata": {},
   "outputs": [],
   "source": [
    "!pip install opencv-python requests pillow numpy flask"
   ]
  },
  {
   "cell_type": "code",
   "execution_count": null,
   "id": "b3f62a26-db6e-45ee-9a4b-96a9b1956c85",
   "metadata": {},
   "outputs": [],
   "source": [
    "import os, json, io, subprocess, base64\n",
    "from threading import Thread \n",
    "from time import time \n",
    "\n",
    "from PIL import Image \n",
    "import numpy as np\n",
    "import requests \n",
    "import cv2"
   ]
  },
  {
   "cell_type": "code",
   "execution_count": null,
   "id": "b26c9e23-a9af-43e5-a555-e4d29e1253ea",
   "metadata": {},
   "outputs": [],
   "source": [
    "headers = {\n",
    "  \"Authorization\": f\"Bearer {api_key}\",\n",
    "  \"Accept\": \"application/json\"\n",
    "}\n",
    "\n",
    "payload = {\n",
    "  \"messages\": [\n",
    "    {\n",
    "      \"role\": \"user\",\n",
    "      \"content\": f'Can you tell me what you are capable of?'\n",
    "    }\n",
    "  ],\n",
    "  \"max_tokens\": 1024,\n",
    "  \"temperature\": 0.20,\n",
    "  \"top_p\": 0.70,\n",
    "  \"seed\": 0,\n",
    "  \"stream\": False\n",
    "}"
   ]
  },
  {
   "cell_type": "code",
   "execution_count": null,
   "id": "a0a572f0-98ff-4073-9236-696de76f2d5a",
   "metadata": {},
   "outputs": [],
   "source": [
    "neva_api_url = \"https://ai.api.nvidia.com/v1/vlm/nvidia/neva-22b\"\n",
    "\n",
    "response = requests.post(neva_api_url, headers=headers, json=payload)\n",
    "response = response.json()\n",
    "\n",
    "#print the full JSON response \n",
    "json_string = json.dumps(response, indent=4, sort_keys=True)\n",
    "print(json_string)"
   ]
  }
 ],
 "metadata": {
  "kernelspec": {
   "display_name": "Python 3 (ipykernel)",
   "language": "python",
   "name": "python3"
  },
  "language_info": {
   "codemirror_mode": {
    "name": "ipython",
    "version": 3
   },
   "file_extension": ".py",
   "mimetype": "text/x-python",
   "name": "python",
   "nbconvert_exporter": "python",
   "pygments_lexer": "ipython3",
   "version": "3.11.5"
  }
 },
 "nbformat": 4,
 "nbformat_minor": 5
}
